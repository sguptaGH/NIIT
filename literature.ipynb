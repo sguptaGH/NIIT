{
 "cells": [
  {
   "cell_type": "markdown",
   "metadata": {},
   "source": [
    "### imports"
   ]
  },
  {
   "cell_type": "code",
   "execution_count": 1,
   "metadata": {},
   "outputs": [],
   "source": [
    "import numpy as np\n",
    "from glob import glob\n",
    "import string\n",
    "import nltk\n",
    "from nltk.corpus import stopwords\n",
    "from nltk.stem.porter import PorterStemmer\n",
    "\n",
    "from sklearn.feature_extraction.text import TfidfVectorizer\n",
    "from sklearn.metrics.pairwise import cosine_similarity"
   ]
  },
  {
   "cell_type": "markdown",
   "metadata": {},
   "source": [
    "### basic function to pre-process text data \n",
    "#### convert to lowercase, remove punctuation and stopwords, stemming"
   ]
  },
  {
   "cell_type": "code",
   "execution_count": 2,
   "metadata": {},
   "outputs": [],
   "source": [
    "PUNCT_TO_REMOVE = string.punctuation\n",
    "STOPWORDS = stopwords.words('english')\n",
    "stemmer = PorterStemmer()\n",
    "\n",
    "def preprocess(line):\n",
    "    line.lower()\n",
    "    line = \"\".join([char for char in line if char not in PUNCT_TO_REMOVE])\n",
    "    line = \" \".join([word for word in line.split() if word not in STOPWORDS])\n",
    "    line = \" \".join([stemmer.stem(word) for word in line.split()])\n",
    "    return line"
   ]
  },
  {
   "cell_type": "markdown",
   "metadata": {},
   "source": [
    "### create corpus"
   ]
  },
  {
   "cell_type": "code",
   "execution_count": 3,
   "metadata": {},
   "outputs": [],
   "source": [
    "corpus = []\n",
    "title = []\n",
    "title_tag = []\n",
    "for file in glob(\"literature/*/*\"):\n",
    "    f = open(file, \"r\")\n",
    "    lines = [line.rstrip('\\n') for line in f.readlines()]\n",
    "    title.append(file.split('\\\\')[2])\n",
    "    title_tag.append(file.split('\\\\')[1])\n",
    "    corpus.append(preprocess(' '.join(lines)))"
   ]
  },
  {
   "cell_type": "markdown",
   "metadata": {},
   "source": [
    "### generate the tf-idf , vector representation of articles"
   ]
  },
  {
   "cell_type": "code",
   "execution_count": 4,
   "metadata": {},
   "outputs": [],
   "source": [
    "vectorizer = TfidfVectorizer()\n",
    "X = vectorizer.fit_transform(corpus)"
   ]
  },
  {
   "cell_type": "markdown",
   "metadata": {},
   "source": [
    "### function to recommend most similar and category wise similar documents"
   ]
  },
  {
   "cell_type": "code",
   "execution_count": 5,
   "metadata": {},
   "outputs": [],
   "source": [
    "def recommendation(article):\n",
    "    idx = title.index(article)\n",
    "    similarity = cosine_similarity(X[idx], X)[0]\n",
    "    most_recommended = title[np.argsort(similarity)[-2]]\n",
    "    cat_recommendation = ''\n",
    "    for tag in set(title_tag):\n",
    "        doc_ids = np.where(np.array(title_tag) == tag)[0]\n",
    "        if idx in doc_ids:\n",
    "            selected = np.argsort(similarity[doc_ids])[-2]\n",
    "        else:\n",
    "            selected = np.argsort(similarity[doc_ids])[-1]\n",
    "        cat_recommendation = cat_recommendation+\"cat : \"+tag+\" , Title : \"+title[doc_ids[selected]]+\"\\n\"\n",
    "        \n",
    "    return \"Most Recommended : \"+most_recommended+\"\\n\\nCategory Wise Recommendation : \\n\"+cat_recommendation+\"\\n\\n\""
   ]
  },
  {
   "cell_type": "markdown",
   "metadata": {},
   "source": [
    "### call the recommentation function with the article that has been liked/read to fetch similar results"
   ]
  },
  {
   "cell_type": "code",
   "execution_count": 6,
   "metadata": {},
   "outputs": [
    {
     "name": "stdout",
     "output_type": "stream",
     "text": [
      "Most Recommended : The_Man_and_the_Serpent.txt\n",
      "\n",
      "Category Wise Recommendation : \n",
      "cat : Fables , Title : The_Man_and_the_Serpent.txt\n",
      "cat : Shakespeare , Title : HenryV.txt\n",
      "\n",
      "\n",
      "\n"
     ]
    }
   ],
   "source": [
    "print(recommendation(\"The_Ass_and_the_Lapdog.txt\"))"
   ]
  }
 ],
 "metadata": {
  "kernelspec": {
   "display_name": "Python 3",
   "language": "python",
   "name": "python3"
  },
  "language_info": {
   "codemirror_mode": {
    "name": "ipython",
    "version": 3
   },
   "file_extension": ".py",
   "mimetype": "text/x-python",
   "name": "python",
   "nbconvert_exporter": "python",
   "pygments_lexer": "ipython3",
   "version": "3.8.3"
  }
 },
 "nbformat": 4,
 "nbformat_minor": 4
}
